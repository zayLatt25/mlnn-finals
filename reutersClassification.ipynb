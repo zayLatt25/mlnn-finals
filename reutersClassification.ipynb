{
 "cells": [
  {
   "cell_type": "markdown",
   "metadata": {},
   "source": [
    "# Introduction"
   ]
  },
  {
   "cell_type": "code",
   "execution_count": 59,
   "metadata": {},
   "outputs": [],
   "source": [
    "import tensorflow as tf\n",
    "from tensorflow import keras\n",
    "import matplotlib.pyplot as plt\n",
    "import numpy as np\n",
    "\n",
    "from tensorflow.keras.preprocessing.sequence import pad_sequences\n",
    "from tensorflow.keras.utils import to_categorical"
   ]
  },
  {
   "cell_type": "code",
   "execution_count": 60,
   "metadata": {},
   "outputs": [],
   "source": [
    "# Load the Reuters dataset\n",
    "(train_data, train_labels), (test_data, test_labels) = keras.datasets.reuters.load_data(num_words=10_000)"
   ]
  },
  {
   "cell_type": "code",
   "execution_count": 61,
   "metadata": {},
   "outputs": [
    {
     "name": "stdout",
     "output_type": "stream",
     "text": [
      "Training samples: 8982, Test samples: 2246\n",
      "Number of classes: 46\n"
     ]
    }
   ],
   "source": [
    "# Print dataset details\n",
    "print(f\"Training samples: {len(train_data)}, Test samples: {len(test_data)}\")\n",
    "print(f\"Number of classes: {np.max(train_labels) + 1}\") "
   ]
  },
  {
   "cell_type": "code",
   "execution_count": 62,
   "metadata": {},
   "outputs": [
    {
     "name": "stdout",
     "output_type": "stream",
     "text": [
      "\n",
      "Sample article (decoded):\n",
      " ? ? ? said as a result of its december acquisition of space co it expects earnings per share in 1987 of 1 15 to 1 30 dlrs per share up from 70 cts in 1986 the company said pretax net should rise to nine to 10 mln dlrs from six mln dlrs in 1986 and rental operation revenues to 19 to 22 mln dlrs from 12 5 mln dlrs it said cash flow per share this year should be 2 50 to three dlrs reuter 3\n"
     ]
    }
   ],
   "source": [
    "# Decode a sample article\n",
    "word_index = keras.datasets.reuters.get_word_index()\n",
    "reverse_word_index = {value: key for (key, value) in word_index.items()}\n",
    "decoded_review = \" \".join([reverse_word_index.get(i - 3, \"?\") for i in train_data[0]])\n",
    "\n",
    "print(\"\\nSample article (decoded):\\n\", decoded_review)"
   ]
  },
  {
   "cell_type": "code",
   "execution_count": 63,
   "metadata": {},
   "outputs": [],
   "source": [
    "# Pad sequences to ensure uniform length\n",
    "max_length = 300  # Truncate or pad to 300 words\n",
    "train_data = pad_sequences(train_data, maxlen=max_length, padding=\"post\")\n",
    "test_data = pad_sequences(test_data, maxlen=max_length, padding=\"post\")"
   ]
  },
  {
   "cell_type": "code",
   "execution_count": 64,
   "metadata": {},
   "outputs": [],
   "source": [
    "# One-hot encode the labels for 46-class classification\n",
    "train_labels = to_categorical(train_labels, num_classes=46)\n",
    "test_labels = to_categorical(test_labels, num_classes=46)"
   ]
  },
  {
   "cell_type": "code",
   "execution_count": 65,
   "metadata": {},
   "outputs": [],
   "source": [
    "# Build a simple Dense-based model\n",
    "model = keras.Sequential([\n",
    "    keras.layers.Dense(128, activation=\"relu\", input_shape=(max_length,)),\n",
    "    keras.layers.Dropout(0.5),\n",
    "    keras.layers.Dense(64, activation=\"relu\"),\n",
    "    keras.layers.Dropout(0.5),\n",
    "    keras.layers.Dense(46, activation=\"softmax\")  # 46 units as there are 46 classes\n",
    "])"
   ]
  },
  {
   "cell_type": "code",
   "execution_count": 66,
   "metadata": {},
   "outputs": [
    {
     "name": "stdout",
     "output_type": "stream",
     "text": [
      "Model: \"sequential_4\"\n",
      "_________________________________________________________________\n",
      " Layer (type)                Output Shape              Param #   \n",
      "=================================================================\n",
      " dense_12 (Dense)            (None, 128)               38528     \n",
      "                                                                 \n",
      " dropout_8 (Dropout)         (None, 128)               0         \n",
      "                                                                 \n",
      " dense_13 (Dense)            (None, 64)                8256      \n",
      "                                                                 \n",
      " dropout_9 (Dropout)         (None, 64)                0         \n",
      "                                                                 \n",
      " dense_14 (Dense)            (None, 46)                2990      \n",
      "                                                                 \n",
      "=================================================================\n",
      "Total params: 49774 (194.43 KB)\n",
      "Trainable params: 49774 (194.43 KB)\n",
      "Non-trainable params: 0 (0.00 Byte)\n",
      "_________________________________________________________________\n"
     ]
    }
   ],
   "source": [
    "# Compile the model\n",
    "model.compile(optimizer=\"adam\",\n",
    "              loss=\"categorical_crossentropy\",\n",
    "              metrics=[\"accuracy\"])\n",
    "\n",
    "# Print model summary\n",
    "model.summary()"
   ]
  },
  {
   "cell_type": "code",
   "execution_count": 67,
   "metadata": {},
   "outputs": [
    {
     "name": "stdout",
     "output_type": "stream",
     "text": [
      "Epoch 1/10\n",
      "15/15 [==============================] - 1s 22ms/step - loss: 5329.6455 - accuracy: 0.0678 - val_loss: 2721.7783 - val_accuracy: 0.3038\n",
      "Epoch 2/10\n",
      "15/15 [==============================] - 0s 14ms/step - loss: 4898.3159 - accuracy: 0.1628 - val_loss: 2601.3718 - val_accuracy: 0.3300\n",
      "Epoch 3/10\n",
      "15/15 [==============================] - 0s 13ms/step - loss: 5126.8633 - accuracy: 0.1672 - val_loss: 2553.1323 - val_accuracy: 0.3239\n",
      "Epoch 4/10\n",
      "15/15 [==============================] - 0s 16ms/step - loss: 5372.6011 - accuracy: 0.1783 - val_loss: 2559.7803 - val_accuracy: 0.3328\n",
      "Epoch 5/10\n",
      "15/15 [==============================] - 0s 12ms/step - loss: 5379.9360 - accuracy: 0.1798 - val_loss: 2770.6936 - val_accuracy: 0.3328\n",
      "Epoch 6/10\n",
      "15/15 [==============================] - 0s 12ms/step - loss: 5409.2822 - accuracy: 0.1862 - val_loss: 2706.7617 - val_accuracy: 0.3406\n",
      "Epoch 7/10\n",
      "15/15 [==============================] - 0s 13ms/step - loss: 5315.5791 - accuracy: 0.1843 - val_loss: 2775.7136 - val_accuracy: 0.3422\n",
      "Epoch 8/10\n",
      "15/15 [==============================] - 0s 12ms/step - loss: 5088.2393 - accuracy: 0.1812 - val_loss: 2703.4958 - val_accuracy: 0.3434\n",
      "Epoch 9/10\n",
      "15/15 [==============================] - 0s 13ms/step - loss: 4969.0112 - accuracy: 0.1793 - val_loss: 2747.3901 - val_accuracy: 0.3500\n",
      "Epoch 10/10\n",
      "15/15 [==============================] - 0s 14ms/step - loss: 4707.4639 - accuracy: 0.1794 - val_loss: 2686.2512 - val_accuracy: 0.3378\n"
     ]
    }
   ],
   "source": [
    "# Train the model\n",
    "history = model.fit(train_data, train_labels,\n",
    "                    epochs=10, batch_size=512,\n",
    "                    validation_split=0.2, verbose=1)"
   ]
  },
  {
   "cell_type": "code",
   "execution_count": 68,
   "metadata": {},
   "outputs": [
    {
     "name": "stdout",
     "output_type": "stream",
     "text": [
      "71/71 [==============================] - 1s 7ms/step - loss: 2698.9001 - accuracy: 0.3482\n",
      "\n",
      "Test accuracy: 0.3482\n"
     ]
    }
   ],
   "source": [
    "# Evaluate on test data\n",
    "test_loss, test_acc = model.evaluate(test_data, test_labels)\n",
    "print(f\"\\nTest accuracy: {test_acc:.4f}\")"
   ]
  },
  {
   "cell_type": "code",
   "execution_count": 69,
   "metadata": {},
   "outputs": [
    {
     "data": {
      "image/png": "[encoded data removed]",
      "text/plain": [
       "<Figure size 640x480 with 1 Axes>"
      ]
     },
     "metadata": {},
     "output_type": "display_data"
    }
   ],
   "source": [
    "# Plot training history\n",
    "plt.plot(history.history[\"accuracy\"], label=\"Training Accuracy\")\n",
    "plt.plot(history.history[\"val_accuracy\"], label=\"Validation Accuracy\")\n",
    "plt.xlabel(\"Epochs\")\n",
    "plt.ylabel(\"Accuracy\")\n",
    "plt.legend()\n",
    "plt.title(\"Training vs Validation Accuracy\")\n",
    "plt.show()"
   ]
  }
 ],
 "metadata": {
  "kernelspec": {
   "display_name": "tensorflow",
   "language": "python",
   "name": "python3"
  },
  "language_info": {
   "codemirror_mode": {
    "name": "ipython",
    "version": 3
   },
   "file_extension": ".py",
   "mimetype": "text/x-python",
   "name": "python",
   "nbconvert_exporter": "python",
   "pygments_lexer": "ipython3",
   "version": "3.10.13"
  }
 },
 "nbformat": 4,
 "nbformat_minor": 2
}
