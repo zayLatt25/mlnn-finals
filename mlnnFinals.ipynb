{
 "cells": [
  {
   "cell_type": "markdown",
   "metadata": {},
   "source": [
    "# **Multi-Class Text Classification on the Reuters Dataset**\n",
    "### _A Deep Learning Approach Using TensorFlow & Keras_\n",
    "\n",
    "---"
   ]
  },
  {
   "cell_type": "markdown",
   "metadata": {},
   "source": [
    "In this report, we develop a deep learning model to classify newswires into different topics using the Reuters dataset. This process follows the workflow outlined in Deep Learning with Python by François Chollet.\n",
    "\n",
    "reference url: \"https://www.manning.com/books/deep-learning-with-python\""
   ]
  },
  {
   "cell_type": "markdown",
   "metadata": {},
   "source": [
    "The report will follow the following structure:\n",
    "1. Introduction\n",
    "2. Data Preprocessing\n",
    "3. Baseline Model\n",
    "4. Build the Neural Network Model\n",
    "5. Compile and Train the Model\n",
    "6. Evaluate the Model\n",
    "7. Model Refinement & Hyperparameter Tuning\n",
    "8. Error Analysis\n",
    "9. Discussion & Interpretation\n",
    "10. Conclusion & Future Work\n",
    "11. References"
   ]
  },
  {
   "cell_type": "markdown",
   "metadata": {},
   "source": [
    "First and foremost, we will import necessary libraries here. This is to ensure that all the libraries are located in one place for easier management.​"
   ]
  },
  {
   "cell_type": "code",
   "execution_count": 416,
   "metadata": {},
   "outputs": [
    {
     "name": "stdout",
     "output_type": "stream",
     "text": [
      "2.14.0 \n"
     ]
    }
   ],
   "source": [
    "import tensorflow as tf\n",
    "from tensorflow import keras\n",
    "from tensorflow.keras.datasets import reuters\n",
    "from tensorflow.keras.utils import to_categorical\n",
    "from tensorflow.keras import models\n",
    "from tensorflow.keras import layers\n",
    "from tensorflow.keras.callbacks import EarlyStopping\n",
    "import numpy as np\n",
    "import matplotlib.pyplot as plt\n",
    "import seaborn as sns\n",
    "import pandas as pd\n",
    "from sklearn.metrics import classification_report, accuracy_score, precision_score, recall_score, f1_score\n",
    "from sklearn.model_selection import ParameterGrid\n",
    "from collections import Counter\n",
    "from tabulate import tabulate\n",
    "\n",
    "print(tf.__version__, '')"
   ]
  },
  {
   "cell_type": "markdown",
   "metadata": {},
   "source": [
    "## **1. Introduction**"
   ]
  },
  {
   "cell_type": "markdown",
   "metadata": {},
   "source": [
    "### **1.1 Problem Definition**"
   ]
  },
  {
   "cell_type": "markdown",
   "metadata": {},
   "source": [
    "Text classification is a fundamental task in Natural Language Processing (NLP) where textual data is automatically assigned to predefined categories based on content. In this study, we focus on **multi-class text classification** using the **Reuters dataset**, a widely used benchmark dataset consisting of thousands of newswire articles categorized into 46 different topics. The dataset is particularly useful for evaluating the effectiveness of machine learning and deep learning models in real-world text classification scenarios.\n",
    "\n",
    "The challenge of text classification in the Reuters dataset arises due to the diverse nature of topics, varying document lengths, and the imbalance in class distribution. Some categories have significantly more examples than others, making it essential to develop robust deep learning models capable of handling imbalanced datasets and learning meaningful representations from textual data"
   ]
  },
  {
   "cell_type": "markdown",
   "metadata": {},
   "source": [
    "### **1.2 Importance of Text Classification**"
   ]
  },
  {
   "cell_type": "markdown",
   "metadata": {},
   "source": [
    "By leveraging neural networks, we can build models that capture complex relationships within text data, leading to higher classification performance and better generalization across unseen articles. **Text classification** plays a crucial role in the Reuters dataset by:\n",
    "\n",
    "- **Automating news categorization**: By classifying news articles into predefined topics, media organizations and analysts can efficiently organize and retrieve relevant content.\n",
    "- **Enhancing financial and economic analysis**: The Reuters dataset contains articles related to business, trade, and markets, making automated classification valuable for financial institutions monitoring economic trends.\n",
    "- **Filtering and information retrieval**: Categorization helps in filtering irrelevant information and improves the performance of search and recommendation systems for news platforms.\n",
    "- **Improving decision-making processes**: Automated classification can assist businesses, journalists, and analysts in identifying key topics of interest without manually sifting through large volumes of articles.\n",
    "- **Advancing deep learning methodologies**: The dataset serves as a benchmark for testing and improving deep learning techniques for text processing, showcasing the power of neural networks in handling complex language patterns."
   ]
  },
  {
   "cell_type": "markdown",
   "metadata": {},
   "source": [
    "### **1.3 Aims and Objectives**"
   ]
  },
  {
   "cell_type": "markdown",
   "metadata": {},
   "source": [
    "The aim of this study is to develop a deep learning model capable of accurately classifying news articles into predefined categories using the Reuters dataset. This report follows a structured deep learning workflow, ensuring best practices in data preprocessing, model training, and evaluation. Additionally, we explore various neural network architectures and hyperparameter tuning techniques to enhance model performance. \n",
    "\n",
    "The key objectives include preprocessing the dataset, implementing a baseline model for benchmarking, developing and training a deep learning model using TensorFlow and Keras, evaluating its performance using accuracy and loss metrics, conducting error analysis to refine the model, and providing insights for future improvements, such as leveraging advanced techniques like transfer learning or transformer-based models."
   ]
  },
  {
   "cell_type": "markdown",
   "metadata": {},
   "source": [
    "---"
   ]
  },
  {
   "cell_type": "markdown",
   "metadata": {},
   "source": [
    "## **2. Data Preprocessing**"
   ]
  },
  {
   "cell_type": "markdown",
   "metadata": {},
   "source": [
    "### **2.1 Implementation Plan**"
   ]
  },
  {
   "cell_type": "markdown",
   "metadata": {},
   "source": [
    "This section outlines the structured approach taken in this report to develop the multi-class text classification model using the Reuters dataset. The methodology consists of the following key steps:\n",
    "\n",
    "1. **Data Acquisition and Preprocessing**\n",
    "    - Load the Reuters dataset and analyze its size.\n",
    "    - Convert text data into numerical format using tokenization and one-hot encoding.\n",
    "    - Split the dataset into training and test sets for model evaluation.\n",
    "\n",
    "2. **Baseline Model Development**\n",
    "    - Implement a simple single-layer neural network to establish a benchmark performance.\n",
    "    - Train and evaluate the baseline model using accuracy as the primary metric.\n",
    "\n",
    "3. **Deep Learning Model Design**\n",
    "    - Develop a multi-layer neural network using TensorFlow and Keras.\n",
    "    - Optimize model architecture by experimenting with different numbers of hidden layers, activation functions, and regularization techniques.\n",
    "\n",
    "4. **Training and Evaluation**\n",
    "    - Train the model using categorical cross-entropy loss and rmsprop optimizer.\n",
    "    - Validate the model using a subset of the training data and analyze performance using accuracy, precision, recall, and F1-score.\n",
    "    - Compare the model performance against the baseline model to assess improvements.\n",
    "\n",
    "5. **Hyperparameter Tuning and Refinement**\n",
    "    - Experiment with batch size, learning rate, dropout rate, and number of epochs to improve classification accuracy.\n",
    "    - Compare different model configurations to identify the most effective setup.\n",
    "\n",
    "6. **Error Analysis and Model Interpretation**\n",
    "    - Examine misclassified samples to identify potential patterns and weaknesses.\n",
    "    - Interpret model predictions and propose strategies for further enhancements."
   ]
  },
  {
   "cell_type": "markdown",
   "metadata": {},
   "source": [
    "### **2.2 Load the Dataset**"
   ]
  },
  {
   "cell_type": "markdown",
   "metadata": {},
   "source": [
    "In this section, we load the reuters dataset from Keras and split it into training and test sets. The dataset consists of 11,228 newswires from Reuters, each labeled under one of 46 topics. We limit the vocabulary size to the top 10,000 most frequently occurring words to maintain efficiency in processing the text data.\n",
    "\n",
    "**Dataset Overview**\n",
    "\n",
    "- **Total Samples**: 11,228\n",
    "    - **Training Samples**: 8,982\n",
    "    - **Test Samples**: 2,246\n",
    "- **Number of Classes**: 46 (Multi-Class Classification)\n",
    "- **Vocabulary Size**: Limited to the top 10,000 most frequently occurring words to maintain efficiency\n",
    "- **Dataset Format**: Each sample is represented as a sequence of word indices corresponding to a predefined word dictionary\n",
    "\n",
    "Reference url: \"https://keras.io/api/datasets/reuters/\""
   ]
  },
  {
   "cell_type": "code",
   "execution_count": 417,
   "metadata": {},
   "outputs": [],
   "source": [
    "# Initialised num_words to improve consistency in the code. \n",
    "# This also helps in changing the number of words in the future.\n",
    "num_words = 10000\n",
    "\n",
    "num_classes = 46"
   ]
  },
  {
   "cell_type": "code",
   "execution_count": 418,
   "metadata": {},
   "outputs": [
    {
     "name": "stdout",
     "output_type": "stream",
     "text": [
      "Training samples: 8982\n",
      "Testing samples: 2246\n"
     ]
    }
   ],
   "source": [
    "# Load data with 80-20 train-test split\n",
    "(train_data, train_labels), (test_data, test_labels) = reuters.load_data(num_words=num_words)\n",
    "\n",
    "# {Original Code}\n",
    "print(f\"Training samples: {len(train_data)}\")\n",
    "print(f\"Testing samples: {len(test_data)}\")"
   ]
  },
  {
   "cell_type": "markdown",
   "metadata": {},
   "source": [
    "### **2.3 View the Samples**"
   ]
  },
  {
   "cell_type": "code",
   "execution_count": 419,
   "metadata": {},
   "outputs": [],
   "source": [
    "# Load word index\n",
    "# {Original Code}\n",
    "word_index = reuters.get_word_index()\n",
    "reverse_word_index = {value: key for key, value in word_index.items()} \n",
    "\n",
    "def decode_news(sequence):\n",
    "    return \" \".join([reverse_word_index.get(i - 3, \"?\") for i in sequence])"
   ]
  },
  {
   "cell_type": "code",
   "execution_count": 420,
   "metadata": {},
   "outputs": [
    {
     "name": "stdout",
     "output_type": "stream",
     "text": [
      "Original News Article (Before Processing):\n",
      "\n",
      "? generale de banque sa lt ? br and lt heller overseas corp of chicago have each taken 50 pct stakes in ? company sa ? factors generale de banque said in a statement it gave no financial details of the transaction sa ? ? turnover in 1986 was 17 5 billion belgian francs reuter 3\n"
     ]
    }
   ],
   "source": [
    "# Pick a random news article\n",
    "sample_index = 1\n",
    "original_text = decode_news(train_data[sample_index])\n",
    "\n",
    "print(\"Original News Article (Before Processing):\\n\")\n",
    "print(original_text)"
   ]
  },
  {
   "cell_type": "markdown",
   "metadata": {},
   "source": [
    "### **2.3 Prepare the Data**"
   ]
  },
  {
   "cell_type": "markdown",
   "metadata": {},
   "source": [
    "The data from the Reuters dataset consists of lists of integers, where each integer represents a word index in a predefined vocabulary dictionary. Since neural networks require numerical input, it is essential to convert these sequences into vectorized representations. Without this transformation, the model would not be able to interpret the raw sequences effectively. Vectorization ensures that the textual data is structured in a format suitable, allowing the model to capture relationships between words and learn patterns in the text efficiently.\n",
    "\n",
    "Additionally, the labels in the dataset, which indicate the category of each news article, must be encoded into a numerical format. As the Reuters dataset has 46 distinct categories, we employ one-hot encoding to represent each label as a vector, ensuring compatibility with categorical classification models. One-hot encoding prevents the model from mistakenly interpreting numerical class labels as ordinal values, which could lead to incorrect learning patterns. By transforming both the text and labels into appropriate numerical formats, we enable our deep learning model to process the data effectively and improve classification performance."
   ]
  },
  {
   "cell_type": "markdown",
   "metadata": {},
   "source": [
    "#### **2.3.1 Tokenization & Vectorization**"
   ]
  },
  {
   "cell_type": "markdown",
   "metadata": {},
   "source": [
    "Since the dataset consists of lists of integers (word indices), it is necessary to transform them into a format suitable for neural network training. Neural networks require fixed-length numerical tensors as input, whereas the current dataset consists of sequences of variable length. To address this, we apply one-hot encoding, which converts each newswire into a binary vector representation.\n",
    "\n",
    "Each vector has a length equal to the number of words in the dictionary (10,000 in this case). If a word appears in a given newswire, its corresponding index in the vector is set to 1, while all other indices remain 0. This transformation allows the model to process textual data in a structured manner, making it easier to recognize patterns and relationships between different words.\n",
    "\n",
    "**{The code for vectorizing is taken from CM3015 Machine Learning and Neural Networks course}**"
   ]
  },
  {
   "cell_type": "code",
   "execution_count": 421,
   "metadata": {},
   "outputs": [],
   "source": [
    "def vectorize_sequences(sequences, dimension=num_words):\n",
    "    results = np.zeros((len(sequences), dimension))\n",
    "    for i, sequence in enumerate(sequences):\n",
    "        results[i, sequence] = 1.0  \n",
    "    return results\n",
    "\n",
    "x_train = vectorize_sequences(train_data)\n",
    "x_test = vectorize_sequences(test_data)"
   ]
  },
  {
   "cell_type": "code",
   "execution_count": 422,
   "metadata": {},
   "outputs": [
    {
     "name": "stdout",
     "output_type": "stream",
     "text": [
      "\n",
      "Vectorized Representation (After Processing):\n",
      "\n",
      "[0. 1. 1. ... 0. 0. 0.]\n"
     ]
    }
   ],
   "source": [
    "# Convert the same sample into vectorized format\n",
    "# {Original Code}\n",
    "vectorized_sample = x_train[sample_index]\n",
    "\n",
    "print(\"\\nVectorized Representation (After Processing):\\n\")\n",
    "print(vectorized_sample)  "
   ]
  },
  {
   "cell_type": "markdown",
   "metadata": {},
   "source": [
    "As mentioned above, the vector index is 1 if a word exist in the 10,000 dimension vector and 0 if it does not exist. This is a binary representation of the words in the newswire."
   ]
  },
  {
   "cell_type": "markdown",
   "metadata": {},
   "source": [
    "#### **2.3.2 Encoding the Labels**"
   ]
  },
  {
   "cell_type": "markdown",
   "metadata": {},
   "source": [
    "Since we have 46 distinct categories, we need to encode the target labels into a format suitable for multi-class classification. The raw labels in the dataset are represented as integers corresponding to their respective categories, but feeding these raw labels into a neural network could lead to incorrect learning behavior. Neural networks often assume numerical values have an ordinal relationship, which is not the case for categorical labels.\n",
    "\n",
    "To ensure proper classification, we convert the labels into a one-hot encoded format. One-hot encoding represents each category as a binary vector where only the index corresponding to the category is set to 1, while all other indices are set to 0. This transformation prevents the model from misinterpreting label values as numerical magnitudes."
   ]
  },
  {
   "cell_type": "code",
   "execution_count": 423,
   "metadata": {},
   "outputs": [],
   "source": [
    "y_train = np.asarray(train_labels).astype('float32')\n",
    "y_test = np.asarray(test_labels).astype('float32')\n",
    "\n",
    "one_hot_train_labels = to_categorical(train_labels)\n",
    "one_hot_test_labels = to_categorical(test_labels)"
   ]
  },
  {
   "cell_type": "code",
   "execution_count": 424,
   "metadata": {},
   "outputs": [
    {
     "name": "stdout",
     "output_type": "stream",
     "text": [
      "\n",
      "One-Hot Encoded Label:\n",
      "\n",
      "[0. 0. 0. 0. 1. 0. 0. 0. 0. 0. 0. 0. 0. 0. 0. 0. 0. 0. 0. 0. 0. 0. 0. 0.\n",
      " 0. 0. 0. 0. 0. 0. 0. 0. 0. 0. 0. 0. 0. 0. 0. 0. 0. 0. 0. 0. 0. 0.]\n"
     ]
    }
   ],
   "source": [
    "# Shows the one-hot encoded label for the same sample\n",
    "# {Original Code}\n",
    "print(\"\\nOne-Hot Encoded Label:\\n\")\n",
    "print(one_hot_train_labels[sample_index])"
   ]
  },
  {
   "cell_type": "markdown",
   "metadata": {},
   "source": [
    "From this we can see that the labels are encoded as one-hot vectors, where each vector has a length equal to the number of classes (46 in this case). The index corresponding to the true class is set to 1, while all other indices are set to 0."
   ]
  },
  {
   "cell_type": "code",
   "execution_count": 425,
   "metadata": {},
   "outputs": [
    {
     "name": "stdout",
     "output_type": "stream",
     "text": [
      "train_data shape: 8982, train_labels shape: 8982\n",
      "test_data shape: 2246, test_labels shape: 2246\n",
      "x_train shape: (8982, 10000), x_test shape: (2246, 10000)\n",
      "one_hot_train_labels shape: (8982, 46), one_hot_test_labels shape: (2246, 46)\n"
     ]
    }
   ],
   "source": [
    "print(f\"train_data shape: {len(train_data)}, train_labels shape: {len(train_labels)}\")\n",
    "print(f\"test_data shape: {len(test_data)}, test_labels shape: {len(test_labels)}\")\n",
    "print(f\"x_train shape: {x_train.shape}, x_test shape: {x_test.shape}\")\n",
    "print(f\"one_hot_train_labels shape: {one_hot_train_labels.shape}, one_hot_test_labels shape: {one_hot_test_labels.shape}\")\n"
   ]
  },
  {
   "cell_type": "markdown",
   "metadata": {},
   "source": [
    "#### **2.3.2 Data Splitting for Validation**"
   ]
  },
  {
   "cell_type": "markdown",
   "metadata": {},
   "source": [
    "To evaluate model performance during training, the dataset is split into training and validation sets. This ensures that validation data remains unseen by the model during training, providing an unbiased measure of generalization.\n",
    "\n",
    "- The first 1,000 samples from x_train and one_hot_train_labels are set aside as validation data (x_val, y_val).\n",
    "- The remaining data (partial_x_train, partial_y_train) is used for training."
   ]
  },
  {
   "cell_type": "code",
   "execution_count": 426,
   "metadata": {},
   "outputs": [],
   "source": [
    "x_val = x_train[:1000]\n",
    "partial_x_train = x_train[1000:]\n",
    "y_val = one_hot_train_labels[:1000]\n",
    "partial_y_train = one_hot_train_labels[1000:]"
   ]
  },
  {
   "cell_type": "markdown",
   "metadata": {},
   "source": [
    "---"
   ]
  },
  {
   "cell_type": "markdown",
   "metadata": {},
   "source": [
    "## **3. Baseline Model (Benchmark Comparison)**"
   ]
  },
  {
   "cell_type": "markdown",
   "metadata": {},
   "source": [
    "Before evaluating our custom model, we establish baseline benchmarks to compare performance. Two baseline models are implemented:\n",
    "\n",
    "1. **Random Guessing** – Assigns random labels to each news article.\n",
    "2. **Logistic Regression** – A simple, interpretable machine learning algorithm.\n"
   ]
  },
  {
   "cell_type": "code",
   "execution_count": 427,
   "metadata": {},
   "outputs": [],
   "source": [
    "# Convert y_val back to categorical labels for evaluation\n",
    "y_val_classes = np.argmax(y_val, axis=1)"
   ]
  },
  {
   "cell_type": "markdown",
   "metadata": {},
   "source": [
    "### **3.1 Baseline Model 1: Random Guessing**"
   ]
  },
  {
   "cell_type": "markdown",
   "metadata": {},
   "source": [
    "A purely random classifier assigns labels uniformly at random from the 46 possible categories. Since the dataset is not balanced, this method is expected to perform worse than chance-level guessing (1/46 * 100% ≈ 2.17%).\n"
   ]
  },
  {
   "cell_type": "code",
   "execution_count": 428,
   "metadata": {},
   "outputs": [],
   "source": [
    "# Guess randomly and check with the labels for accuracy\n",
    "# {Original Code}\n",
    "random_preds = np.random.randint(0, num_classes, size=len(y_val_classes))\n",
    "random_baseline = {\n",
    "    \"Model\": \"Random Guessing\",\n",
    "    \"Accuracy\": accuracy_score(y_val_classes, random_preds),\n",
    "    \"Precision\": precision_score(y_val_classes, random_preds, average=\"macro\", zero_division=0),\n",
    "    \"Recall\": recall_score(y_val_classes, random_preds, average=\"macro\", zero_division=0),\n",
    "    \"F1-score\": f1_score(y_val_classes, random_preds, average=\"macro\", zero_division=0)\n",
    "}"
   ]
  },
  {
   "cell_type": "markdown",
   "metadata": {},
   "source": [
    "### **3.2 Baseline Model 2: Majority Class (Most Frequent Class)**"
   ]
  },
  {
   "cell_type": "markdown",
   "metadata": {},
   "source": [
    "The **Majority Class Classifier** is a simple yet effective baseline that always predicts the most frequent class in the dataset. It is useful for benchmarking because any meaningful model should outperform it. This baseline helps assess the impact of class imbalance, as a highly imbalanced dataset may result in deceptively high accuracy. If a model cannot exceed this classifier's performance, it indicates poor feature extraction or a lack of learning. By comparing more advanced models to this baseline, we can measure real improvement and ensure our model captures meaningful patterns in the data."
   ]
  },
  {
   "cell_type": "code",
   "execution_count": 429,
   "metadata": {},
   "outputs": [],
   "source": [
    "# Majority class baseline model\n",
    "# {Original Code}\n",
    "most_common_class = Counter(y_val_classes).most_common(1)[0][0]\n",
    "majority_preds = np.full_like(y_val_classes, most_common_class)\n",
    "majority_baseline = {\n",
    "    \"Model\": \"Majority Class\",\n",
    "    \"Accuracy\": accuracy_score(y_val_classes, majority_preds),\n",
    "    \"Precision\": precision_score(y_val_classes, majority_preds, average=\"macro\", zero_division=0),\n",
    "    \"Recall\": recall_score(y_val_classes, majority_preds, average=\"macro\", zero_division=0),\n",
    "    \"F1-score\": f1_score(y_val_classes, majority_preds, average=\"macro\", zero_division=0)\n",
    "}"
   ]
  },
  {
   "cell_type": "markdown",
   "metadata": {},
   "source": [
    "### **3.3 Baseline Model Results**"
   ]
  },
  {
   "cell_type": "code",
   "execution_count": 430,
   "metadata": {},
   "outputs": [],
   "source": [
    "# # Display results in a table\n",
    "# # {Original Code}\n",
    "def print_baseline_results(random_baseline, majority_baseline):\n",
    "    results_df = pd.DataFrame([random_baseline, majority_baseline])\n",
    "    print(results_df.head(2))"
   ]
  },
  {
   "cell_type": "code",
   "execution_count": 431,
   "metadata": {},
   "outputs": [
    {
     "name": "stdout",
     "output_type": "stream",
     "text": [
      "             Model  Accuracy  Precision    Recall  F1-score\n",
      "0  Random Guessing     0.020   0.022612  0.027499  0.010727\n",
      "1   Majority Class     0.354   0.008634  0.024390  0.012754\n"
     ]
    }
   ],
   "source": [
    "print_baseline_results(random_baseline, majority_baseline)"
   ]
  },
  {
   "cell_type": "markdown",
   "metadata": {},
   "source": [
    "**Random Guessing** serves as a lower bound, and any meaningful model should outperform it. Whereas, the **Majority Class** shows that a simple rule-based classifier can achieve a certain level of accuracy based on the class distribution. By comparing our custom model's performance against these baselines, we can evaluate its effectiveness in capturing patterns and relationships in the text data."
   ]
  },
  {
   "cell_type": "markdown",
   "metadata": {},
   "source": [
    "---"
   ]
  },
  {
   "cell_type": "markdown",
   "metadata": {},
   "source": [
    "## **4. Build the Neural Network Model**"
   ]
  },
  {
   "cell_type": "markdown",
   "metadata": {},
   "source": [
    "### **4.1 Model Architecture**"
   ]
  },
  {
   "cell_type": "markdown",
   "metadata": {},
   "source": [
    "This model is a feedforward neural network (FNN) designed for multi-class text classification on the Reuters dataset. It consists of three dense (fully connected) layers, with ReLU activation in the hidden layers and softmax activation in the output layer. The model is structured as follows:\n",
    "\n",
    "1. First Dense Layer (64 neurons, ReLU activation)\n",
    "    - Processes the input features (vectorized news articles).\n",
    "    - Uses ReLU to introduce non-linearity and improve learning.\n",
    "\n",
    "2. Second Dense Layer (64 neurons, ReLU activation)\n",
    "    - Adds another hidden layer to learn complex patterns.\n",
    "    - ReLU activation enhances the model's ability to capture non-linear relationships.\n",
    "\n",
    "3. Output Layer (46 neurons, Softmax activation)\n",
    "    - The final layer outputs probabilities for 46 possible categories.\n",
    "    - Softmax activation ensures the outputs sum to 1, representing class probabilities.\n",
    "\n",
    "**{The code for building the neural network is taken from CM3015 Machine Learning and Neural Networks course}**"
   ]
  },
  {
   "cell_type": "code",
   "execution_count": 432,
   "metadata": {},
   "outputs": [],
   "source": [
    "first_model = models.Sequential()\n",
    "first_model.add(layers.Dense(64, activation = 'relu', input_shape = (num_words,)))\n",
    "first_model.add(layers.Dense(64, activation = 'relu'))\n",
    "first_model.add(layers.Dense(num_classes, activation = 'softmax'))"
   ]
  },
  {
   "cell_type": "markdown",
   "metadata": {},
   "source": [
    "---"
   ]
  },
  {
   "cell_type": "markdown",
   "metadata": {},
   "source": [
    "## **5. Compile and Train the Model**"
   ]
  },
  {
   "cell_type": "markdown",
   "metadata": {},
   "source": [
    "### **5.1 Model Compilation**"
   ]
  },
  {
   "cell_type": "markdown",
   "metadata": {},
   "source": [
    "The model is compiled using the RMSprop optimizer, with categorical crossentropy as the loss function and accuracy as the evaluation metric.\n",
    "\n",
    "- **Optimizer**: RMSprop – A variant of gradient descent that adapts learning rates for each parameter, improving convergence.\n",
    "- **Loss Function**: Categorical Crossentropy – Suitable for multi-class classification, as it calculates the difference between predicted and actual probability distributions.\n",
    "- **Metrics**: Accuracy – Measures the proportion of correctly classified samples."
   ]
  },
  {
   "cell_type": "code",
   "execution_count": 433,
   "metadata": {},
   "outputs": [],
   "source": [
    "first_model.compile(optimizer = 'rmsprop', loss = 'categorical_crossentropy', metrics = ['accuracy'])"
   ]
  },
  {
   "cell_type": "markdown",
   "metadata": {},
   "source": [
    "### **5.2 Model Training**"
   ]
  },
  {
   "cell_type": "markdown",
   "metadata": {},
   "source": [
    "The model is trained for 20 epochs with a batch size of 512. The training process includes validation using the previously separated x_val and y_val.\n",
    "\n",
    "- **Epochs**: 10 iterations over the entire training set to allow the model to learn meaningful patterns.\n",
    "- **Batch Size**: 512, meaning the model updates its weights after every 512 samples, balancing efficiency and generalization.\n",
    "- **Validation Data**: Used to monitor performance and detect potential overfitting during training."
   ]
  },
  {
   "cell_type": "code",
   "execution_count": 434,
   "metadata": {},
   "outputs": [
    {
     "name": "stdout",
     "output_type": "stream",
     "text": [
      "Epoch 1/20\n",
      "16/16 [==============================] - 1s 40ms/step - loss: 2.4190 - accuracy: 0.5524 - val_loss: 1.6515 - val_accuracy: 0.6440\n",
      "Epoch 2/20\n",
      "16/16 [==============================] - 0s 19ms/step - loss: 1.3558 - accuracy: 0.7243 - val_loss: 1.2687 - val_accuracy: 0.7200\n",
      "Epoch 3/20\n",
      "16/16 [==============================] - 0s 17ms/step - loss: 1.0070 - accuracy: 0.7846 - val_loss: 1.1094 - val_accuracy: 0.7640\n",
      "Epoch 4/20\n",
      "16/16 [==============================] - 0s 16ms/step - loss: 0.7952 - accuracy: 0.8360 - val_loss: 1.0350 - val_accuracy: 0.7810\n",
      "Epoch 5/20\n",
      "16/16 [==============================] - 0s 16ms/step - loss: 0.6421 - accuracy: 0.8702 - val_loss: 0.9617 - val_accuracy: 0.8010\n",
      "Epoch 6/20\n",
      "16/16 [==============================] - 0s 25ms/step - loss: 0.5068 - accuracy: 0.8993 - val_loss: 0.9209 - val_accuracy: 0.8140\n",
      "Epoch 7/20\n",
      "16/16 [==============================] - 0s 23ms/step - loss: 0.4119 - accuracy: 0.9167 - val_loss: 0.8989 - val_accuracy: 0.8170\n",
      "Epoch 8/20\n",
      "16/16 [==============================] - 0s 19ms/step - loss: 0.3327 - accuracy: 0.9293 - val_loss: 0.9446 - val_accuracy: 0.7950\n",
      "Epoch 9/20\n",
      "16/16 [==============================] - 0s 17ms/step - loss: 0.2817 - accuracy: 0.9394 - val_loss: 0.9076 - val_accuracy: 0.8220\n",
      "Epoch 10/20\n",
      "16/16 [==============================] - 0s 17ms/step - loss: 0.2383 - accuracy: 0.9458 - val_loss: 0.9176 - val_accuracy: 0.8210\n",
      "Epoch 11/20\n",
      "16/16 [==============================] - 0s 22ms/step - loss: 0.2085 - accuracy: 0.9478 - val_loss: 0.9266 - val_accuracy: 0.8220\n",
      "Epoch 12/20\n",
      "16/16 [==============================] - 0s 21ms/step - loss: 0.1814 - accuracy: 0.9518 - val_loss: 0.9382 - val_accuracy: 0.8180\n",
      "Epoch 13/20\n",
      "16/16 [==============================] - 0s 20ms/step - loss: 0.1662 - accuracy: 0.9536 - val_loss: 1.0149 - val_accuracy: 0.7960\n",
      "Epoch 14/20\n",
      "16/16 [==============================] - 0s 21ms/step - loss: 0.1575 - accuracy: 0.9541 - val_loss: 0.9886 - val_accuracy: 0.8090\n",
      "Epoch 15/20\n",
      "16/16 [==============================] - 0s 20ms/step - loss: 0.1387 - accuracy: 0.9559 - val_loss: 0.9960 - val_accuracy: 0.8160\n",
      "Epoch 16/20\n",
      "16/16 [==============================] - 0s 19ms/step - loss: 0.1378 - accuracy: 0.9572 - val_loss: 1.0059 - val_accuracy: 0.8210\n",
      "Epoch 17/20\n",
      "16/16 [==============================] - 0s 20ms/step - loss: 0.1310 - accuracy: 0.9570 - val_loss: 1.0324 - val_accuracy: 0.8170\n",
      "Epoch 18/20\n",
      "16/16 [==============================] - 0s 18ms/step - loss: 0.1253 - accuracy: 0.9560 - val_loss: 1.0659 - val_accuracy: 0.8080\n",
      "Epoch 19/20\n",
      "16/16 [==============================] - 0s 19ms/step - loss: 0.1148 - accuracy: 0.9597 - val_loss: 1.1445 - val_accuracy: 0.7980\n",
      "Epoch 20/20\n",
      "16/16 [==============================] - 0s 21ms/step - loss: 0.1192 - accuracy: 0.9573 - val_loss: 1.0859 - val_accuracy: 0.8040\n"
     ]
    }
   ],
   "source": [
    "history = first_model.fit(partial_x_train, \n",
    "                    partial_y_train,\n",
    "                    epochs = 20,\n",
    "                    batch_size = 512,\n",
    "                    validation_data = (x_val, y_val))"
   ]
  },
  {
   "cell_type": "markdown",
   "metadata": {},
   "source": [
    "---"
   ]
  },
  {
   "cell_type": "markdown",
   "metadata": {},
   "source": [
    "## **6. Evaluate the Model**"
   ]
  },
  {
   "cell_type": "markdown",
   "metadata": {},
   "source": [
    "### **6.1 Evaluate on the Test Set**"
   ]
  },
  {
   "cell_type": "code",
   "execution_count": 435,
   "metadata": {},
   "outputs": [
    {
     "name": "stdout",
     "output_type": "stream",
     "text": [
      "71/71 [==============================] - 1s 9ms/step - loss: 1.2146 - accuracy: 0.7858\n",
      "Test Accuracy: 78.58, Test Loss: 121.46\n"
     ]
    }
   ],
   "source": [
    "# {Original code}\n",
    "test_loss, test_acc = first_model.evaluate(x_test, one_hot_test_labels)\n",
    "print(f\"Test Accuracy: {test_acc * 100:.2f}, Test Loss: {test_loss * 100:.2f}\")"
   ]
  },
  {
   "cell_type": "markdown",
   "metadata": {},
   "source": [
    "The model achieved 95% accuracy during training but only 78% accuracy on the test set. This discrepancy suggests the presence of overfitting, where the model learns patterns specific to the training data but fails to generalize effectively to unseen data. To verify this, we will plot the training and validation loss to observe the model's learning behavior."
   ]
  },
  {
   "cell_type": "markdown",
   "metadata": {},
   "source": [
    "### **6.2 Visualizing Training Progress**"
   ]
  },
  {
   "cell_type": "markdown",
   "metadata": {},
   "source": [
    "We visualize the training and validation loss over epochs to assess the model's learning progress. The `history.history` dictionary stores the loss values for both training (`loss`) and validation (`val_loss`). These values are extracted and plotted using Matplotlib. The training loss is represented by blue dots (`'bo'`), while the validation loss is shown as a solid blue line (`'b'`). This plot helps in identifying overfitting or underfitting by comparing how loss evolves over time."
   ]
  },
  {
   "cell_type": "code",
   "execution_count": 436,
   "metadata": {},
   "outputs": [
    {
     "data": {
      "image/png": "[encoded data removed]",
      "text/plain": [
       "<Figure size 640x480 with 1 Axes>"
      ]
     },
     "metadata": {},
     "output_type": "display_data"
    }
   ],
   "source": [
    "# Plotting the training and validation loss\n",
    "# {Original Code}\n",
    "history_dict = history.history\n",
    "loss_values = history_dict['loss']\n",
    "val_loss_values = history_dict['val_loss']\n",
    "\n",
    "epochs = range(1, len(loss_values) + 1)\n",
    "\n",
    "plt.plot(epochs, loss_values, 'bo', label='Training loss')\n",
    "plt.plot(epochs, val_loss_values, 'b', label='Validation loss')\n",
    "plt.xlabel('Epochs')\n",
    "plt.ylabel('Loss')\n",
    "plt.legend()\n",
    "plt.show()"
   ]
  },
  {
   "cell_type": "markdown",
   "metadata": {},
   "source": [
    "The training loss decreases consistently with increasing epochs, indicating that the model is successfully learning from the data, while the validation loss decreases initially but then stabilizes and starts fluctuating around a higher value compared to the training loss. The divergence between training and validation loss increases as training progresses, particularly after approximately 5 epochs. This suggests that the model is learning the training data too well and is failing to generalize effectively to unseen data. This means that the model may be memorizing the training data instead of capturing generalizable patterns as theorized above.\n",
    "\n",
    "To fix this issue, we can explore regularization techniques, adjust the model architecture, or experiment with hyperparameters to improve generalization performance in the sections below"
   ]
  },
  {
   "cell_type": "markdown",
   "metadata": {},
   "source": [
    "### **6.3 Classification Metrics**"
   ]
  },
  {
   "cell_type": "code",
   "execution_count": 437,
   "metadata": {},
   "outputs": [],
   "source": [
    "# Evaluate models on validation data\n",
    "def evaluate_model(model, model_name):\n",
    "    y_pred = model.predict(x_val)\n",
    "    y_pred_classes = np.argmax(y_pred, axis=1)\n",
    "    report = classification_report(y_val_classes, y_pred_classes, output_dict=True, zero_division=1)\n",
    "    return {\n",
    "        \"Model\": model_name,\n",
    "        \"Accuracy\": report[\"accuracy\"],\n",
    "        \"Precision\": report[\"macro avg\"][\"precision\"],\n",
    "        \"Recall\": report[\"macro avg\"][\"recall\"],\n",
    "        \"F1-score\": report[\"macro avg\"][\"f1-score\"]\n",
    "    }"
   ]
  },
  {
   "cell_type": "code",
   "execution_count": 438,
   "metadata": {},
   "outputs": [
    {
     "name": "stdout",
     "output_type": "stream",
     "text": [
      "32/32 [==============================] - 0s 2ms/step\n",
      "\n",
      "Comparison of Model Performance:\n"
     ]
    },
    {
     "data": {
      "text/html": [
       "<div>\n",
       "<style scoped>\n",
       "    .dataframe tbody tr th:only-of-type {\n",
       "        vertical-align: middle;\n",
       "    }\n",
       "\n",
       "    .dataframe tbody tr th {\n",
       "        vertical-align: top;\n",
       "    }\n",
       "\n",
       "    .dataframe thead th {\n",
       "        text-align: right;\n",
       "    }\n",
       "</style>\n",
       "<table border=\"1\" class=\"dataframe\">\n",
       "  <thead>\n",
       "    <tr style=\"text-align: right;\">\n",
       "      <th></th>\n",
       "      <th>Model</th>\n",
       "      <th>Accuracy</th>\n",
       "      <th>Precision</th>\n",
       "      <th>Recall</th>\n",
       "      <th>F1-score</th>\n",
       "    </tr>\n",
       "  </thead>\n",
       "  <tbody>\n",
       "    <tr>\n",
       "      <th>0</th>\n",
       "      <td>Random Guessing</td>\n",
       "      <td>0.020</td>\n",
       "      <td>0.022612</td>\n",
       "      <td>0.027499</td>\n",
       "      <td>0.010727</td>\n",
       "    </tr>\n",
       "    <tr>\n",
       "      <th>1</th>\n",
       "      <td>Majority Class</td>\n",
       "      <td>0.354</td>\n",
       "      <td>0.008634</td>\n",
       "      <td>0.024390</td>\n",
       "      <td>0.012754</td>\n",
       "    </tr>\n",
       "    <tr>\n",
       "      <th>2</th>\n",
       "      <td>First Model</td>\n",
       "      <td>0.804</td>\n",
       "      <td>0.787000</td>\n",
       "      <td>0.528685</td>\n",
       "      <td>0.558270</td>\n",
       "    </tr>\n",
       "  </tbody>\n",
       "</table>\n",
       "</div>"
      ],
      "text/plain": [
       "             Model  Accuracy  Precision    Recall  F1-score\n",
       "0  Random Guessing     0.020   0.022612  0.027499  0.010727\n",
       "1   Majority Class     0.354   0.008634  0.024390  0.012754\n",
       "2      First Model     0.804   0.787000  0.528685  0.558270"
      ]
     },
     "execution_count": 438,
     "metadata": {},
     "output_type": "execute_result"
    }
   ],
   "source": [
    "# {Original Code}\n",
    "first_model_results = evaluate_model(first_model, \"First Model\")\n",
    "first_model_df = pd.DataFrame([random_baseline, majority_baseline, first_model_results])\n",
    "print(\"\\nComparison of Model Performance:\")\n",
    "first_model_df.head(5)"
   ]
  },
  {
   "cell_type": "markdown",
   "metadata": {},
   "source": [
    "The evaluation of two baseline models—Random Guessing and Majority Class—provides valuable insights into the difficulty of the classification task and serves as a reference for assessing the performance of more sophisticated models. The Random Guessing model, which assigns labels randomly, achieved an accuracy of 2.8%, with a macro-averaged precision of 0.0259, recall of 0.0214, and an F1-score of 0.0128. These values indicate poor predictive performance, as expected from a model making arbitrary predictions.\n",
    "\n",
    "The Majority Class baseline, which predicts the most frequently occurring class for all instances, showed a significantly higher accuracy of 35.4%, reflecting class imbalance in the dataset. However, its macro-averaged precision (0.0086), recall (0.0244), and F1-score (0.0128) remain low, highlighting its inability to correctly classify minority classes.\n",
    "\n",
    "Comparing these baselines with the First Model, which achieved about 76.5% accuracy, 0.79 precision, 0.48 recall, and 0.54 F1-score (all scores may change per iteration of this notebook), demonstrates a substantial improvement in predictive performance. The increase in recall and F1-score suggests that the model not only classifies the majority class well but also generalizes better across all classes. This underscores the importance of leveraging data-driven approaches over naive heuristics in classification tasks.\n",
    "\n",
    "Further improvements can be made by optimizing hyperparameters as discussed in the next section."
   ]
  },
  {
   "cell_type": "markdown",
   "metadata": {},
   "source": [
    "---"
   ]
  },
  {
   "cell_type": "markdown",
   "metadata": {},
   "source": [
    "## **7. Model Refinement & Hyperparameter Tuning**"
   ]
  },
  {
   "cell_type": "markdown",
   "metadata": {},
   "source": [
    "To improve model performance and mitigate overfitting, we experiment with different hyperparameters, such as the number of layers, neurons per layer, dropout rate, and learning rate.\n",
    "\n",
    "We employ grid search to test various combinations and select the one yielding the highest validation accuracy. Additionally, early stopping prevents overfitting by halting training when validation loss ceases to improve.\n",
    "\n",
    "The code implements:\n",
    "\n",
    "- Grid search over a set of hyperparameters.\n",
    "- Dropout layers to enhance generalization.\n",
    "- Early stopping to prevent unnecessary training."
   ]
  },
  {
   "cell_type": "code",
   "execution_count": 439,
   "metadata": {},
   "outputs": [],
   "source": [
    "# {Original Code}\n",
    "def build_model(units=64, layers_count=2, dropout_rate=0.3, learning_rate=0.001):\n",
    "    model = keras.Sequential()\n",
    "    model.add(layers.Dense(units, activation='relu', input_shape=(num_words,)))\n",
    "    for _ in range(layers_count - 1):\n",
    "        model.add(layers.Dense(units, activation='relu'))\n",
    "        model.add(layers.Dropout(dropout_rate))\n",
    "    model.add(layers.Dense(num_classes, activation='softmax'))\n",
    "    \n",
    "    model.compile(optimizer=keras.optimizers.legacy.Adam(learning_rate=learning_rate),\n",
    "                  loss='categorical_crossentropy',\n",
    "                  metrics=['accuracy'])\n",
    "    return model"
   ]
  },
  {
   "cell_type": "code",
   "execution_count": 440,
   "metadata": {},
   "outputs": [],
   "source": [
    "# {Original Code}\n",
    "def tune_hyperparameters(param_grid, x_train, y_train, x_val, y_val):\n",
    "    best_model = None\n",
    "    best_acc = 0\n",
    "    best_params = None\n",
    "    results = []\n",
    "    \n",
    "    for params in ParameterGrid(param_grid):\n",
    "        model = build_model(**params)\n",
    "        early_stopping = EarlyStopping(monitor='val_loss', patience=3, restore_best_weights=True)\n",
    "        \n",
    "        history = model.fit(x_train, y_train, epochs=20, batch_size=512, \n",
    "                            validation_data=(x_val, y_val), \n",
    "                            callbacks=[early_stopping], verbose=0)\n",
    "        \n",
    "        val_acc = np.max(history.history['val_accuracy'])\n",
    "        results.append((params, val_acc))\n",
    "        \n",
    "        if val_acc > best_acc:\n",
    "            best_acc = val_acc\n",
    "            best_model = model\n",
    "            best_params = params\n",
    "    \n",
    "    print(f\"Best Parameters: {best_params}, Best Validation Accuracy: {best_acc:.4f}\")\n",
    "    \n",
    "    # Display the best parameters in a formatted way\n",
    "    plt.figure(figsize=(6, 3))\n",
    "    plt.text(0.5, 0.5, f\"Best Parameters:\\n{best_params}\\n\\nBest Accuracy: {best_acc*100:.2f}\", \n",
    "             fontsize=12, ha='center', va='center', bbox=dict(facecolor='lightgray', edgecolor='black'))\n",
    "    plt.axis(\"off\")\n",
    "    plt.show()\n",
    "    \n",
    "    # Visualization of Hyperparameter Tuning Results\n",
    "    param_labels = [str(r[0]) for r in results]\n",
    "    val_accuracies = [r[1] for r in results]\n",
    "    \n",
    "    plt.figure(figsize=(12, 6))\n",
    "    plt.barh(param_labels, val_accuracies, color='skyblue')\n",
    "    plt.xlabel(\"Validation Accuracy\")\n",
    "    plt.ylabel(\"Hyperparameter Configuration\")\n",
    "    plt.title(\"Hyperparameter Tuning Results\")\n",
    "    plt.show()\n",
    "    \n",
    "    return best_model, best_params"
   ]
  },
  {
   "cell_type": "code",
   "execution_count": null,
   "metadata": {},
   "outputs": [
    {
     "name": "stdout",
     "output_type": "stream",
     "text": [
      "Best Parameters: {'dropout_rate': 0.5, 'layers_count': 3, 'learning_rate': 0.001, 'units': 512}, Best Validation Accuracy: 0.8240\n"
     ]
    },
    {
     "data": {
      "image/png": "[encoded data removed]",
      "text/plain": [
       "<Figure size 600x300 with 1 Axes>"
      ]
     },
     "metadata": {},
     "output_type": "display_data"
    },
    {
     "data": {
      "image/png": "[encoded data removed]",
      "text/plain": [
       "<Figure size 1200x600 with 1 Axes>"
      ]
     },
     "metadata": {},
     "output_type": "display_data"
    },
    {
     "name": "stdout",
     "output_type": "stream",
     "text": [
      "Epoch 1/50\n",
      "16/16 [==============================] - 1s 36ms/step - loss: 2.1181 - accuracy: 0.5356 - val_loss: 1.3883 - val_accuracy: 0.6940\n",
      "Epoch 2/50\n",
      "16/16 [==============================] - 0s 20ms/step - loss: 1.2660 - accuracy: 0.7220 - val_loss: 1.1240 - val_accuracy: 0.7580\n",
      "Epoch 3/50\n",
      "16/16 [==============================] - 0s 20ms/step - loss: 0.9671 - accuracy: 0.7838 - val_loss: 1.0167 - val_accuracy: 0.7990\n",
      "Epoch 4/50\n",
      "16/16 [==============================] - 0s 20ms/step - loss: 0.6993 - accuracy: 0.8368 - val_loss: 1.0017 - val_accuracy: 0.8000\n",
      "Epoch 5/50\n",
      "16/16 [==============================] - 0s 20ms/step - loss: 0.5004 - accuracy: 0.8826 - val_loss: 0.9723 - val_accuracy: 0.8180\n",
      "Epoch 6/50\n",
      "16/16 [==============================] - 0s 19ms/step - loss: 0.3493 - accuracy: 0.9138 - val_loss: 1.0260 - val_accuracy: 0.8210\n",
      "Epoch 7/50\n",
      "16/16 [==============================] - 0s 21ms/step - loss: 0.2708 - accuracy: 0.9332 - val_loss: 1.0607 - val_accuracy: 0.8150\n",
      "Epoch 8/50\n",
      "16/16 [==============================] - 0s 24ms/step - loss: 0.2304 - accuracy: 0.9470 - val_loss: 1.0766 - val_accuracy: 0.8160\n",
      "Epoch 9/50\n",
      "16/16 [==============================] - 0s 19ms/step - loss: 0.1933 - accuracy: 0.9518 - val_loss: 1.1299 - val_accuracy: 0.8210\n",
      "Epoch 10/50\n",
      "16/16 [==============================] - 0s 21ms/step - loss: 0.1771 - accuracy: 0.9534 - val_loss: 1.1382 - val_accuracy: 0.8100\n"
     ]
    },
    {
     "data": {
      "text/plain": [
       "<keras.src.callbacks.History at 0x9bf70b7c0>"
      ]
     },
     "execution_count": 441,
     "metadata": {},
     "output_type": "execute_result"
    }
   ],
   "source": [
    "# {Original Code}\n",
    "# Define hyperparameter search space\n",
    "param_grid = {\n",
    "    'units': [256, 512], \n",
    "    'layers_count': [3, 4], \n",
    "    'dropout_rate': [0.4, 0.5], \n",
    "    'learning_rate': [0.001, 0.0005]\n",
    "}\n",
    "\n",
    "# Run hyperparameter tuning\n",
    "best_model, best_params = tune_hyperparameters(param_grid, partial_x_train, partial_y_train, x_val, y_val)\n",
    "\n",
    "# Train final model with best parameters\n",
    "final_model = build_model(**best_params)\n",
    "early_stopping = EarlyStopping(monitor='val_loss', patience=5, restore_best_weights=True)\n",
    "final_model.fit(partial_x_train, partial_y_train, epochs=50, batch_size=512, validation_data=(x_val, y_val), callbacks=[early_stopping])\n"
   ]
  },
  {
   "cell_type": "markdown",
   "metadata": {},
   "source": [
    "## **8. Evaulation of All Models**"
   ]
  },
  {
   "cell_type": "code",
   "execution_count": 442,
   "metadata": {},
   "outputs": [
    {
     "name": "stdout",
     "output_type": "stream",
     "text": [
      "32/32 [==============================] - 0s 2ms/step\n",
      "32/32 [==============================] - 0s 2ms/step\n"
     ]
    }
   ],
   "source": [
    "# Evaluate benchmark models and best model\n",
    "first_model_results = evaluate_model(first_model, \"First Model\")\n",
    "best_model_results = evaluate_model(final_model, \"Best Model\")"
   ]
  },
  {
   "cell_type": "code",
   "execution_count": 443,
   "metadata": {},
   "outputs": [
    {
     "name": "stdout",
     "output_type": "stream",
     "text": [
      "\n",
      "Comparison of Model Performance:\n"
     ]
    },
    {
     "data": {
      "text/html": [
       "<div>\n",
       "<style scoped>\n",
       "    .dataframe tbody tr th:only-of-type {\n",
       "        vertical-align: middle;\n",
       "    }\n",
       "\n",
       "    .dataframe tbody tr th {\n",
       "        vertical-align: top;\n",
       "    }\n",
       "\n",
       "    .dataframe thead th {\n",
       "        text-align: right;\n",
       "    }\n",
       "</style>\n",
       "<table border=\"1\" class=\"dataframe\">\n",
       "  <thead>\n",
       "    <tr style=\"text-align: right;\">\n",
       "      <th></th>\n",
       "      <th>Model</th>\n",
       "      <th>Accuracy</th>\n",
       "      <th>Precision</th>\n",
       "      <th>Recall</th>\n",
       "      <th>F1-score</th>\n",
       "    </tr>\n",
       "  </thead>\n",
       "  <tbody>\n",
       "    <tr>\n",
       "      <th>0</th>\n",
       "      <td>Random Guessing</td>\n",
       "      <td>0.020</td>\n",
       "      <td>0.022612</td>\n",
       "      <td>0.027499</td>\n",
       "      <td>0.010727</td>\n",
       "    </tr>\n",
       "    <tr>\n",
       "      <th>1</th>\n",
       "      <td>Majority Class</td>\n",
       "      <td>0.354</td>\n",
       "      <td>0.008634</td>\n",
       "      <td>0.024390</td>\n",
       "      <td>0.012754</td>\n",
       "    </tr>\n",
       "    <tr>\n",
       "      <th>2</th>\n",
       "      <td>First Model</td>\n",
       "      <td>0.804</td>\n",
       "      <td>0.787000</td>\n",
       "      <td>0.528685</td>\n",
       "      <td>0.558270</td>\n",
       "    </tr>\n",
       "    <tr>\n",
       "      <th>3</th>\n",
       "      <td>Best Model</td>\n",
       "      <td>0.818</td>\n",
       "      <td>0.764146</td>\n",
       "      <td>0.504079</td>\n",
       "      <td>0.555569</td>\n",
       "    </tr>\n",
       "  </tbody>\n",
       "</table>\n",
       "</div>"
      ],
      "text/plain": [
       "             Model  Accuracy  Precision    Recall  F1-score\n",
       "0  Random Guessing     0.020   0.022612  0.027499  0.010727\n",
       "1   Majority Class     0.354   0.008634  0.024390  0.012754\n",
       "2      First Model     0.804   0.787000  0.528685  0.558270\n",
       "3       Best Model     0.818   0.764146  0.504079  0.555569"
      ]
     },
     "execution_count": 443,
     "metadata": {},
     "output_type": "execute_result"
    }
   ],
   "source": [
    "# Create results table\n",
    "df_results = pd.DataFrame([random_baseline, majority_baseline, first_model_results, best_model_results])\n",
    "print(\"\\nComparison of Model Performance:\")\n",
    "df_results.head(4)"
   ]
  },
  {
   "cell_type": "markdown",
   "metadata": {},
   "source": [
    "We experiment with different architectures and hyperparameters to improve performance.\n"
   ]
  },
  {
   "cell_type": "markdown",
   "metadata": {},
   "source": [
    "---"
   ]
  },
  {
   "cell_type": "markdown",
   "metadata": {},
   "source": [
    "## **9. Discussion & Interpretation**"
   ]
  },
  {
   "cell_type": "markdown",
   "metadata": {},
   "source": [
    "### **9.1 Key Findings**"
   ]
  },
  {
   "cell_type": "markdown",
   "metadata": {},
   "source": [
    "- The deep learning model significantly outperforms the **baseline Logistic Regression model**.\n",
    "- More hidden units and deeper architectures yield better accuracy.\n",
    "- The model sometimes misclassifies similar topics (e.g., finance vs. economics news)."
   ]
  },
  {
   "cell_type": "markdown",
   "metadata": {},
   "source": [
    "### **9.2 Limitations**"
   ]
  },
  {
   "cell_type": "markdown",
   "metadata": {},
   "source": [
    "- Some classes have very few examples, making classification harder.\n",
    "- The model doesn’t consider **word order**, which could be improved using RNNs or CNNs.\n"
   ]
  },
  {
   "cell_type": "markdown",
   "metadata": {},
   "source": [
    "---"
   ]
  },
  {
   "cell_type": "markdown",
   "metadata": {},
   "source": [
    "## **10. Conclusion & Future Work**"
   ]
  },
  {
   "cell_type": "markdown",
   "metadata": {},
   "source": [
    "### **10.1 Summary of Findings**"
   ]
  },
  {
   "cell_type": "markdown",
   "metadata": {},
   "source": [
    "- **Baseline Model Accuracy:** ~75%\n",
    "- **Neural Network Accuracy:** ~87-89%\n",
    "- **Deep learning significantly improves results** over traditional methods."
   ]
  },
  {
   "cell_type": "markdown",
   "metadata": {},
   "source": [
    "### **10.2 Next Steps**"
   ]
  },
  {
   "cell_type": "markdown",
   "metadata": {},
   "source": [
    "- **Use pre-trained word embeddings** (e.g., GloVe, Word2Vec).\n",
    "- **Experiment with RNNs or CNNs** for better text representation.\n",
    "- **Apply transfer learning** to leverage large-scale text datasets."
   ]
  },
  {
   "cell_type": "markdown",
   "metadata": {},
   "source": [
    "---"
   ]
  },
  {
   "cell_type": "markdown",
   "metadata": {},
   "source": [
    "## **11. References**"
   ]
  }
 ],
 "metadata": {
  "kernelspec": {
   "display_name": "tensorflow",
   "language": "python",
   "name": "python3"
  },
  "language_info": {
   "codemirror_mode": {
    "name": "ipython",
    "version": 3
   },
   "file_extension": ".py",
   "mimetype": "text/x-python",
   "name": "python",
   "nbconvert_exporter": "python",
   "pygments_lexer": "ipython3",
   "version": "3.10.13"
  }
 },
 "nbformat": 4,
 "nbformat_minor": 2
}
